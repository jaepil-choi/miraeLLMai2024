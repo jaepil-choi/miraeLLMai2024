{
 "cells": [
  {
   "cell_type": "markdown",
   "metadata": {},
   "source": [
    "# FnGuide 마켓 데이터 전처리\n",
    "\n",
    "- 시가총액, 거래대금 기준 top 100에 드는 종목만 universe로 남길 예정"
   ]
  },
  {
   "cell_type": "code",
   "execution_count": 4,
   "metadata": {},
   "outputs": [],
   "source": [
    "from pathlib import Path\n",
    "import pandas as pd"
   ]
  },
  {
   "cell_type": "code",
   "execution_count": 5,
   "metadata": {},
   "outputs": [],
   "source": [
    "CWD = Path.cwd()\n",
    "WORKSPACE_PATH = CWD.parent\n",
    "COMMON_PATH = WORKSPACE_PATH / 'common'\n",
    "DATA_PATH = WORKSPACE_PATH / 'data'"
   ]
  },
  {
   "cell_type": "markdown",
   "metadata": {},
   "source": [
    "## 데이터 불러오기 & 전처리"
   ]
  },
  {
   "cell_type": "code",
   "execution_count": 6,
   "metadata": {},
   "outputs": [],
   "source": [
    "filename = 'DataGuide_KSE+KOSDAQ_20200101-20240729_ALL.xlsx'\n",
    "\n",
    "df = pd.read_excel(DATA_PATH / filename, skiprows=8,)"
   ]
  },
  {
   "cell_type": "code",
   "execution_count": 7,
   "metadata": {},
   "outputs": [],
   "source": [
    "ticker_to_name = df[['Symbol', 'Symbol Name']].drop_duplicates().set_index('Symbol').to_dict()['Symbol Name']"
   ]
  },
  {
   "cell_type": "code",
   "execution_count": 8,
   "metadata": {},
   "outputs": [],
   "source": [
    "name_to_tick = {v: k for k, v in ticker_to_name.items()}  "
   ]
  },
  {
   "cell_type": "code",
   "execution_count": 9,
   "metadata": {},
   "outputs": [],
   "source": [
    "item_aliases = ['close', 'returns', 'moneyvolume', 'marketcap', 'beta1y']\n",
    "\n",
    "itemkor_to_eng = dict(zip(df['Item Name '].drop_duplicates().to_list(), item_aliases))\n",
    "itemeng_to_kor = {v: k for k, v in itemkor_to_eng.items()}"
   ]
  },
  {
   "cell_type": "code",
   "execution_count": 10,
   "metadata": {},
   "outputs": [],
   "source": [
    "df.drop(columns=['Symbol Name', 'Kind', 'Item', 'Frequency', ], inplace=True)"
   ]
  },
  {
   "cell_type": "code",
   "execution_count": 11,
   "metadata": {},
   "outputs": [
    {
     "data": {
      "text/plain": [
       "Index([           'Symbol',        'Item Name ', 2020-01-02 00:00:00,\n",
       "       2020-01-03 00:00:00, 2020-01-06 00:00:00, 2020-01-07 00:00:00,\n",
       "       2020-01-08 00:00:00, 2020-01-09 00:00:00, 2020-01-10 00:00:00,\n",
       "       2020-01-13 00:00:00,\n",
       "       ...\n",
       "       2024-07-16 00:00:00, 2024-07-17 00:00:00, 2024-07-18 00:00:00,\n",
       "       2024-07-19 00:00:00, 2024-07-22 00:00:00, 2024-07-23 00:00:00,\n",
       "       2024-07-24 00:00:00, 2024-07-25 00:00:00, 2024-07-26 00:00:00,\n",
       "       2024-07-29 00:00:00],\n",
       "      dtype='object', length=1131)"
      ]
     },
     "execution_count": 11,
     "metadata": {},
     "output_type": "execute_result"
    }
   ],
   "source": [
    "df.columns"
   ]
  },
  {
   "cell_type": "code",
   "execution_count": 12,
   "metadata": {},
   "outputs": [],
   "source": [
    "df = df.melt(id_vars=['Symbol', 'Item Name '], var_name='Date', value_name='Value', )"
   ]
  },
  {
   "cell_type": "code",
   "execution_count": 13,
   "metadata": {},
   "outputs": [
    {
     "data": {
      "text/html": [
       "<div>\n",
       "<style scoped>\n",
       "    .dataframe tbody tr th:only-of-type {\n",
       "        vertical-align: middle;\n",
       "    }\n",
       "\n",
       "    .dataframe tbody tr th {\n",
       "        vertical-align: top;\n",
       "    }\n",
       "\n",
       "    .dataframe thead th {\n",
       "        text-align: right;\n",
       "    }\n",
       "</style>\n",
       "<table border=\"1\" class=\"dataframe\">\n",
       "  <thead>\n",
       "    <tr style=\"text-align: right;\">\n",
       "      <th></th>\n",
       "      <th>Symbol</th>\n",
       "      <th>Item Name</th>\n",
       "      <th>Date</th>\n",
       "      <th>Value</th>\n",
       "    </tr>\n",
       "  </thead>\n",
       "  <tbody>\n",
       "    <tr>\n",
       "      <th>0</th>\n",
       "      <td>A005930</td>\n",
       "      <td>수정주가(원)</td>\n",
       "      <td>2020-01-02 00:00:00</td>\n",
       "      <td>5.520000e+04</td>\n",
       "    </tr>\n",
       "    <tr>\n",
       "      <th>1</th>\n",
       "      <td>A005930</td>\n",
       "      <td>수익률(%)</td>\n",
       "      <td>2020-01-02 00:00:00</td>\n",
       "      <td>-1.080000e+00</td>\n",
       "    </tr>\n",
       "    <tr>\n",
       "      <th>2</th>\n",
       "      <td>A005930</td>\n",
       "      <td>거래대금(원)</td>\n",
       "      <td>2020-01-02 00:00:00</td>\n",
       "      <td>7.196632e+11</td>\n",
       "    </tr>\n",
       "    <tr>\n",
       "      <th>3</th>\n",
       "      <td>A005930</td>\n",
       "      <td>시가총액 (티커-상장예정주식수 포함)(백만원)</td>\n",
       "      <td>2020-01-02 00:00:00</td>\n",
       "      <td>3.295320e+08</td>\n",
       "    </tr>\n",
       "    <tr>\n",
       "      <th>4</th>\n",
       "      <td>A005930</td>\n",
       "      <td>베타 (D,1Yr)</td>\n",
       "      <td>2020-01-02 00:00:00</td>\n",
       "      <td>1.479140e+00</td>\n",
       "    </tr>\n",
       "    <tr>\n",
       "      <th>...</th>\n",
       "      <td>...</td>\n",
       "      <td>...</td>\n",
       "      <td>...</td>\n",
       "      <td>...</td>\n",
       "    </tr>\n",
       "    <tr>\n",
       "      <th>21038910</th>\n",
       "      <td>A950180</td>\n",
       "      <td>수정주가(원)</td>\n",
       "      <td>2024-07-29 00:00:00</td>\n",
       "      <td>NaN</td>\n",
       "    </tr>\n",
       "    <tr>\n",
       "      <th>21038911</th>\n",
       "      <td>A950180</td>\n",
       "      <td>수익률(%)</td>\n",
       "      <td>2024-07-29 00:00:00</td>\n",
       "      <td>NaN</td>\n",
       "    </tr>\n",
       "    <tr>\n",
       "      <th>21038912</th>\n",
       "      <td>A950180</td>\n",
       "      <td>거래대금(원)</td>\n",
       "      <td>2024-07-29 00:00:00</td>\n",
       "      <td>NaN</td>\n",
       "    </tr>\n",
       "    <tr>\n",
       "      <th>21038913</th>\n",
       "      <td>A950180</td>\n",
       "      <td>시가총액 (티커-상장예정주식수 포함)(백만원)</td>\n",
       "      <td>2024-07-29 00:00:00</td>\n",
       "      <td>NaN</td>\n",
       "    </tr>\n",
       "    <tr>\n",
       "      <th>21038914</th>\n",
       "      <td>A950180</td>\n",
       "      <td>베타 (D,1Yr)</td>\n",
       "      <td>2024-07-29 00:00:00</td>\n",
       "      <td>NaN</td>\n",
       "    </tr>\n",
       "  </tbody>\n",
       "</table>\n",
       "<p>21038915 rows × 4 columns</p>\n",
       "</div>"
      ],
      "text/plain": [
       "           Symbol                 Item Name                  Date  \\\n",
       "0         A005930                    수정주가(원)  2020-01-02 00:00:00   \n",
       "1         A005930                     수익률(%)  2020-01-02 00:00:00   \n",
       "2         A005930                    거래대금(원)  2020-01-02 00:00:00   \n",
       "3         A005930  시가총액 (티커-상장예정주식수 포함)(백만원)  2020-01-02 00:00:00   \n",
       "4         A005930                 베타 (D,1Yr)  2020-01-02 00:00:00   \n",
       "...           ...                        ...                  ...   \n",
       "21038910  A950180                    수정주가(원)  2024-07-29 00:00:00   \n",
       "21038911  A950180                     수익률(%)  2024-07-29 00:00:00   \n",
       "21038912  A950180                    거래대금(원)  2024-07-29 00:00:00   \n",
       "21038913  A950180  시가총액 (티커-상장예정주식수 포함)(백만원)  2024-07-29 00:00:00   \n",
       "21038914  A950180                 베타 (D,1Yr)  2024-07-29 00:00:00   \n",
       "\n",
       "                 Value  \n",
       "0         5.520000e+04  \n",
       "1        -1.080000e+00  \n",
       "2         7.196632e+11  \n",
       "3         3.295320e+08  \n",
       "4         1.479140e+00  \n",
       "...                ...  \n",
       "21038910           NaN  \n",
       "21038911           NaN  \n",
       "21038912           NaN  \n",
       "21038913           NaN  \n",
       "21038914           NaN  \n",
       "\n",
       "[21038915 rows x 4 columns]"
      ]
     },
     "execution_count": 13,
     "metadata": {},
     "output_type": "execute_result"
    }
   ],
   "source": [
    "df"
   ]
  },
  {
   "cell_type": "code",
   "execution_count": 14,
   "metadata": {},
   "outputs": [],
   "source": [
    "df.columns = ['Symbol', 'ItemEng', 'Date', 'Value']\n",
    "df['ItemEng'] = df['ItemEng'].map(itemkor_to_eng)"
   ]
  },
  {
   "cell_type": "code",
   "execution_count": 15,
   "metadata": {},
   "outputs": [],
   "source": [
    "df['Date'] = pd.to_datetime(df['Date'], format='%Y-%m-%d')"
   ]
  },
  {
   "cell_type": "code",
   "execution_count": 16,
   "metadata": {},
   "outputs": [
    {
     "data": {
      "text/html": [
       "<div>\n",
       "<style scoped>\n",
       "    .dataframe tbody tr th:only-of-type {\n",
       "        vertical-align: middle;\n",
       "    }\n",
       "\n",
       "    .dataframe tbody tr th {\n",
       "        vertical-align: top;\n",
       "    }\n",
       "\n",
       "    .dataframe thead th {\n",
       "        text-align: right;\n",
       "    }\n",
       "</style>\n",
       "<table border=\"1\" class=\"dataframe\">\n",
       "  <thead>\n",
       "    <tr style=\"text-align: right;\">\n",
       "      <th></th>\n",
       "      <th>Symbol</th>\n",
       "      <th>ItemEng</th>\n",
       "      <th>Date</th>\n",
       "      <th>Value</th>\n",
       "    </tr>\n",
       "  </thead>\n",
       "  <tbody>\n",
       "    <tr>\n",
       "      <th>0</th>\n",
       "      <td>A005930</td>\n",
       "      <td>close</td>\n",
       "      <td>2020-01-02</td>\n",
       "      <td>5.520000e+04</td>\n",
       "    </tr>\n",
       "    <tr>\n",
       "      <th>1</th>\n",
       "      <td>A005930</td>\n",
       "      <td>returns</td>\n",
       "      <td>2020-01-02</td>\n",
       "      <td>-1.080000e+00</td>\n",
       "    </tr>\n",
       "    <tr>\n",
       "      <th>2</th>\n",
       "      <td>A005930</td>\n",
       "      <td>moneyvolume</td>\n",
       "      <td>2020-01-02</td>\n",
       "      <td>7.196632e+11</td>\n",
       "    </tr>\n",
       "    <tr>\n",
       "      <th>3</th>\n",
       "      <td>A005930</td>\n",
       "      <td>marketcap</td>\n",
       "      <td>2020-01-02</td>\n",
       "      <td>3.295320e+08</td>\n",
       "    </tr>\n",
       "    <tr>\n",
       "      <th>4</th>\n",
       "      <td>A005930</td>\n",
       "      <td>beta1y</td>\n",
       "      <td>2020-01-02</td>\n",
       "      <td>1.479140e+00</td>\n",
       "    </tr>\n",
       "    <tr>\n",
       "      <th>...</th>\n",
       "      <td>...</td>\n",
       "      <td>...</td>\n",
       "      <td>...</td>\n",
       "      <td>...</td>\n",
       "    </tr>\n",
       "    <tr>\n",
       "      <th>21038910</th>\n",
       "      <td>A950180</td>\n",
       "      <td>close</td>\n",
       "      <td>2024-07-29</td>\n",
       "      <td>NaN</td>\n",
       "    </tr>\n",
       "    <tr>\n",
       "      <th>21038911</th>\n",
       "      <td>A950180</td>\n",
       "      <td>returns</td>\n",
       "      <td>2024-07-29</td>\n",
       "      <td>NaN</td>\n",
       "    </tr>\n",
       "    <tr>\n",
       "      <th>21038912</th>\n",
       "      <td>A950180</td>\n",
       "      <td>moneyvolume</td>\n",
       "      <td>2024-07-29</td>\n",
       "      <td>NaN</td>\n",
       "    </tr>\n",
       "    <tr>\n",
       "      <th>21038913</th>\n",
       "      <td>A950180</td>\n",
       "      <td>marketcap</td>\n",
       "      <td>2024-07-29</td>\n",
       "      <td>NaN</td>\n",
       "    </tr>\n",
       "    <tr>\n",
       "      <th>21038914</th>\n",
       "      <td>A950180</td>\n",
       "      <td>beta1y</td>\n",
       "      <td>2024-07-29</td>\n",
       "      <td>NaN</td>\n",
       "    </tr>\n",
       "  </tbody>\n",
       "</table>\n",
       "<p>21038915 rows × 4 columns</p>\n",
       "</div>"
      ],
      "text/plain": [
       "           Symbol      ItemEng       Date         Value\n",
       "0         A005930        close 2020-01-02  5.520000e+04\n",
       "1         A005930      returns 2020-01-02 -1.080000e+00\n",
       "2         A005930  moneyvolume 2020-01-02  7.196632e+11\n",
       "3         A005930    marketcap 2020-01-02  3.295320e+08\n",
       "4         A005930       beta1y 2020-01-02  1.479140e+00\n",
       "...           ...          ...        ...           ...\n",
       "21038910  A950180        close 2024-07-29           NaN\n",
       "21038911  A950180      returns 2024-07-29           NaN\n",
       "21038912  A950180  moneyvolume 2024-07-29           NaN\n",
       "21038913  A950180    marketcap 2024-07-29           NaN\n",
       "21038914  A950180       beta1y 2024-07-29           NaN\n",
       "\n",
       "[21038915 rows x 4 columns]"
      ]
     },
     "execution_count": 16,
     "metadata": {},
     "output_type": "execute_result"
    }
   ],
   "source": [
    "df"
   ]
  },
  {
   "cell_type": "code",
   "execution_count": 17,
   "metadata": {},
   "outputs": [],
   "source": [
    "df.to_pickle(DATA_PATH / 'stock_data_ALL.pkl') # 전처리 끝난 level 1 data"
   ]
  },
  {
   "cell_type": "code",
   "execution_count": 18,
   "metadata": {},
   "outputs": [],
   "source": [
    "returns_df = df[df['ItemEng'] == 'returns'].pivot_table(index='Date', columns='Symbol', values='Value', aggfunc='first')\n"
   ]
  },
  {
   "cell_type": "code",
   "execution_count": 19,
   "metadata": {},
   "outputs": [],
   "source": [
    "returns_df = returns_df / 100"
   ]
  },
  {
   "cell_type": "code",
   "execution_count": 20,
   "metadata": {},
   "outputs": [],
   "source": [
    "moneyvolume_df = df[df['ItemEng'] == 'moneyvolume'].pivot_table(index='Date', columns='Symbol', values='Value', aggfunc='first')\n"
   ]
  },
  {
   "cell_type": "code",
   "execution_count": 21,
   "metadata": {},
   "outputs": [],
   "source": [
    "marketcap_df = df[df['ItemEng'] == 'marketcap'].pivot_table(index='Date', columns='Symbol', values='Value', aggfunc='first')"
   ]
  },
  {
   "cell_type": "code",
   "execution_count": 22,
   "metadata": {},
   "outputs": [],
   "source": [
    "returns_df.to_pickle(DATA_PATH / 'returns_df_ALL.pkl') # 전처리 끝난 전체 유니버스 데이터들\n",
    "moneyvolume_df.to_pickle(DATA_PATH / 'moneyvolume_df_ALL.pkl')\n",
    "marketcap_df.to_pickle(DATA_PATH / 'marketcap_df_ALL.pkl')"
   ]
  },
  {
   "cell_type": "code",
   "execution_count": 23,
   "metadata": {},
   "outputs": [
    {
     "data": {
      "text/plain": [
       "<Axes: xlabel='Date'>"
      ]
     },
     "execution_count": 23,
     "metadata": {},
     "output_type": "execute_result"
    },
    {
     "data": {
      "image/png": "[encoded data removed]",
      "text/plain": [
       "<Figure size 640x480 with 1 Axes>"
      ]
     },
     "metadata": {},
     "output_type": "display_data"
    }
   ],
   "source": [
    "((returns_df['A005930'] + 1).cumprod() - 1).plot() # 삼성전자 주가 확인"
   ]
  },
  {
   "cell_type": "markdown",
   "metadata": {},
   "source": [
    "## Top 100 필터링"
   ]
  },
  {
   "cell_type": "code",
   "execution_count": 24,
   "metadata": {},
   "outputs": [],
   "source": [
    "moneyvolume_df_top100_mask = moneyvolume_df.rank(axis=1, method='first', ascending=False) <= 100"
   ]
  },
  {
   "cell_type": "code",
   "execution_count": 25,
   "metadata": {},
   "outputs": [],
   "source": [
    "marketcap_df_top100_mask = marketcap_df.rank(axis=1, method='first', ascending=False) <= 100"
   ]
  },
  {
   "cell_type": "code",
   "execution_count": 26,
   "metadata": {},
   "outputs": [],
   "source": [
    "universe_df_top100_mask = (moneyvolume_df_top100_mask * marketcap_df_top100_mask)"
   ]
  },
  {
   "cell_type": "code",
   "execution_count": 27,
   "metadata": {},
   "outputs": [
    {
     "data": {
      "text/plain": [
       "Symbol\n",
       "A000020    False\n",
       "A000040    False\n",
       "A000050    False\n",
       "A000060     True\n",
       "A000070    False\n",
       "           ...  \n",
       "A950180    False\n",
       "A950190    False\n",
       "A950200    False\n",
       "A950210    False\n",
       "A950220    False\n",
       "Length: 2732, dtype: bool"
      ]
     },
     "execution_count": 27,
     "metadata": {},
     "output_type": "execute_result"
    }
   ],
   "source": [
    "universe_df_top100_list = (moneyvolume_df_top100_mask * marketcap_df_top100_mask).any(axis=0)\n",
    "universe_df_top100_list"
   ]
  },
  {
   "cell_type": "code",
   "execution_count": 28,
   "metadata": {},
   "outputs": [],
   "source": [
    "returns_df_top100 = returns_df.loc[:, universe_df_top100_list].copy()"
   ]
  },
  {
   "cell_type": "code",
   "execution_count": 29,
   "metadata": {},
   "outputs": [],
   "source": [
    "returns_df_top100.to_pickle(DATA_PATH / 'returns_df_top100.pkl')"
   ]
  },
  {
   "cell_type": "code",
   "execution_count": 30,
   "metadata": {},
   "outputs": [
    {
     "data": {
      "text/html": [
       "<div>\n",
       "<style scoped>\n",
       "    .dataframe tbody tr th:only-of-type {\n",
       "        vertical-align: middle;\n",
       "    }\n",
       "\n",
       "    .dataframe tbody tr th {\n",
       "        vertical-align: top;\n",
       "    }\n",
       "\n",
       "    .dataframe thead th {\n",
       "        text-align: right;\n",
       "    }\n",
       "</style>\n",
       "<table border=\"1\" class=\"dataframe\">\n",
       "  <thead>\n",
       "    <tr style=\"text-align: right;\">\n",
       "      <th>Symbol</th>\n",
       "      <th>A000060</th>\n",
       "      <th>A000080</th>\n",
       "      <th>A000100</th>\n",
       "      <th>A000120</th>\n",
       "      <th>A000150</th>\n",
       "      <th>A000210</th>\n",
       "      <th>A000250</th>\n",
       "      <th>A000270</th>\n",
       "      <th>A000660</th>\n",
       "      <th>A000720</th>\n",
       "      <th>...</th>\n",
       "      <th>A373220</th>\n",
       "      <th>A377300</th>\n",
       "      <th>A383220</th>\n",
       "      <th>A402340</th>\n",
       "      <th>A403870</th>\n",
       "      <th>A417200</th>\n",
       "      <th>A443060</th>\n",
       "      <th>A450080</th>\n",
       "      <th>A454910</th>\n",
       "      <th>A462870</th>\n",
       "    </tr>\n",
       "    <tr>\n",
       "      <th>Date</th>\n",
       "      <th></th>\n",
       "      <th></th>\n",
       "      <th></th>\n",
       "      <th></th>\n",
       "      <th></th>\n",
       "      <th></th>\n",
       "      <th></th>\n",
       "      <th></th>\n",
       "      <th></th>\n",
       "      <th></th>\n",
       "      <th></th>\n",
       "      <th></th>\n",
       "      <th></th>\n",
       "      <th></th>\n",
       "      <th></th>\n",
       "      <th></th>\n",
       "      <th></th>\n",
       "      <th></th>\n",
       "      <th></th>\n",
       "      <th></th>\n",
       "      <th></th>\n",
       "    </tr>\n",
       "  </thead>\n",
       "  <tbody>\n",
       "    <tr>\n",
       "      <th>2020-01-02</th>\n",
       "      <td>-0.0392</td>\n",
       "      <td>-0.0034</td>\n",
       "      <td>-0.0211</td>\n",
       "      <td>-0.0161</td>\n",
       "      <td>-0.0199</td>\n",
       "      <td>-0.0298</td>\n",
       "      <td>0.0211</td>\n",
       "      <td>-0.0406</td>\n",
       "      <td>0.0064</td>\n",
       "      <td>-0.0260</td>\n",
       "      <td>...</td>\n",
       "      <td>NaN</td>\n",
       "      <td>NaN</td>\n",
       "      <td>NaN</td>\n",
       "      <td>NaN</td>\n",
       "      <td>NaN</td>\n",
       "      <td>NaN</td>\n",
       "      <td>NaN</td>\n",
       "      <td>NaN</td>\n",
       "      <td>NaN</td>\n",
       "      <td>NaN</td>\n",
       "    </tr>\n",
       "    <tr>\n",
       "      <th>2020-01-03</th>\n",
       "      <td>0.0000</td>\n",
       "      <td>-0.0121</td>\n",
       "      <td>-0.0043</td>\n",
       "      <td>-0.0295</td>\n",
       "      <td>-0.0087</td>\n",
       "      <td>0.0000</td>\n",
       "      <td>-0.0316</td>\n",
       "      <td>-0.0118</td>\n",
       "      <td>-0.0021</td>\n",
       "      <td>-0.0049</td>\n",
       "      <td>...</td>\n",
       "      <td>NaN</td>\n",
       "      <td>NaN</td>\n",
       "      <td>NaN</td>\n",
       "      <td>NaN</td>\n",
       "      <td>NaN</td>\n",
       "      <td>NaN</td>\n",
       "      <td>NaN</td>\n",
       "      <td>NaN</td>\n",
       "      <td>NaN</td>\n",
       "      <td>NaN</td>\n",
       "    </tr>\n",
       "    <tr>\n",
       "      <th>2020-01-06</th>\n",
       "      <td>-0.0292</td>\n",
       "      <td>0.0035</td>\n",
       "      <td>-0.0174</td>\n",
       "      <td>-0.0068</td>\n",
       "      <td>-0.0249</td>\n",
       "      <td>-0.0421</td>\n",
       "      <td>-0.0327</td>\n",
       "      <td>-0.0024</td>\n",
       "      <td>-0.0021</td>\n",
       "      <td>-0.0366</td>\n",
       "      <td>...</td>\n",
       "      <td>NaN</td>\n",
       "      <td>NaN</td>\n",
       "      <td>NaN</td>\n",
       "      <td>NaN</td>\n",
       "      <td>NaN</td>\n",
       "      <td>NaN</td>\n",
       "      <td>NaN</td>\n",
       "      <td>NaN</td>\n",
       "      <td>NaN</td>\n",
       "      <td>NaN</td>\n",
       "    </tr>\n",
       "    <tr>\n",
       "      <th>2020-01-07</th>\n",
       "      <td>-0.0150</td>\n",
       "      <td>-0.0070</td>\n",
       "      <td>0.0177</td>\n",
       "      <td>0.0000</td>\n",
       "      <td>-0.0045</td>\n",
       "      <td>0.0131</td>\n",
       "      <td>-0.0059</td>\n",
       "      <td>0.0036</td>\n",
       "      <td>-0.0032</td>\n",
       "      <td>0.0051</td>\n",
       "      <td>...</td>\n",
       "      <td>NaN</td>\n",
       "      <td>NaN</td>\n",
       "      <td>NaN</td>\n",
       "      <td>NaN</td>\n",
       "      <td>NaN</td>\n",
       "      <td>NaN</td>\n",
       "      <td>NaN</td>\n",
       "      <td>NaN</td>\n",
       "      <td>NaN</td>\n",
       "      <td>NaN</td>\n",
       "    </tr>\n",
       "    <tr>\n",
       "      <th>2020-01-08</th>\n",
       "      <td>-0.0152</td>\n",
       "      <td>-0.0264</td>\n",
       "      <td>-0.0195</td>\n",
       "      <td>-0.0238</td>\n",
       "      <td>-0.0226</td>\n",
       "      <td>-0.0305</td>\n",
       "      <td>-0.0428</td>\n",
       "      <td>-0.0178</td>\n",
       "      <td>0.0362</td>\n",
       "      <td>-0.0516</td>\n",
       "      <td>...</td>\n",
       "      <td>NaN</td>\n",
       "      <td>NaN</td>\n",
       "      <td>NaN</td>\n",
       "      <td>NaN</td>\n",
       "      <td>NaN</td>\n",
       "      <td>NaN</td>\n",
       "      <td>NaN</td>\n",
       "      <td>NaN</td>\n",
       "      <td>NaN</td>\n",
       "      <td>NaN</td>\n",
       "    </tr>\n",
       "    <tr>\n",
       "      <th>...</th>\n",
       "      <td>...</td>\n",
       "      <td>...</td>\n",
       "      <td>...</td>\n",
       "      <td>...</td>\n",
       "      <td>...</td>\n",
       "      <td>...</td>\n",
       "      <td>...</td>\n",
       "      <td>...</td>\n",
       "      <td>...</td>\n",
       "      <td>...</td>\n",
       "      <td>...</td>\n",
       "      <td>...</td>\n",
       "      <td>...</td>\n",
       "      <td>...</td>\n",
       "      <td>...</td>\n",
       "      <td>...</td>\n",
       "      <td>...</td>\n",
       "      <td>...</td>\n",
       "      <td>...</td>\n",
       "      <td>...</td>\n",
       "      <td>...</td>\n",
       "    </tr>\n",
       "    <tr>\n",
       "      <th>2024-07-23</th>\n",
       "      <td>NaN</td>\n",
       "      <td>0.0074</td>\n",
       "      <td>0.0031</td>\n",
       "      <td>0.0208</td>\n",
       "      <td>0.0463</td>\n",
       "      <td>-0.0110</td>\n",
       "      <td>0.0081</td>\n",
       "      <td>0.0397</td>\n",
       "      <td>0.0000</td>\n",
       "      <td>-0.0212</td>\n",
       "      <td>...</td>\n",
       "      <td>-0.0076</td>\n",
       "      <td>-0.0781</td>\n",
       "      <td>-0.0324</td>\n",
       "      <td>-0.0117</td>\n",
       "      <td>-0.0187</td>\n",
       "      <td>-0.0240</td>\n",
       "      <td>0.0789</td>\n",
       "      <td>-0.0078</td>\n",
       "      <td>0.0477</td>\n",
       "      <td>-0.0277</td>\n",
       "    </tr>\n",
       "    <tr>\n",
       "      <th>2024-07-24</th>\n",
       "      <td>NaN</td>\n",
       "      <td>0.0000</td>\n",
       "      <td>0.0103</td>\n",
       "      <td>0.0311</td>\n",
       "      <td>-0.0418</td>\n",
       "      <td>0.0130</td>\n",
       "      <td>-0.0096</td>\n",
       "      <td>-0.0174</td>\n",
       "      <td>0.0171</td>\n",
       "      <td>-0.0077</td>\n",
       "      <td>...</td>\n",
       "      <td>-0.0138</td>\n",
       "      <td>0.0040</td>\n",
       "      <td>0.0128</td>\n",
       "      <td>-0.0106</td>\n",
       "      <td>-0.0381</td>\n",
       "      <td>-0.0172</td>\n",
       "      <td>0.0000</td>\n",
       "      <td>-0.0358</td>\n",
       "      <td>-0.0443</td>\n",
       "      <td>-0.0676</td>\n",
       "    </tr>\n",
       "    <tr>\n",
       "      <th>2024-07-25</th>\n",
       "      <td>NaN</td>\n",
       "      <td>-0.0123</td>\n",
       "      <td>-0.0235</td>\n",
       "      <td>-0.0156</td>\n",
       "      <td>-0.1179</td>\n",
       "      <td>-0.0092</td>\n",
       "      <td>-0.0605</td>\n",
       "      <td>-0.0287</td>\n",
       "      <td>-0.0887</td>\n",
       "      <td>0.0031</td>\n",
       "      <td>...</td>\n",
       "      <td>0.0342</td>\n",
       "      <td>0.0341</td>\n",
       "      <td>-0.0126</td>\n",
       "      <td>-0.0406</td>\n",
       "      <td>-0.0076</td>\n",
       "      <td>-0.0350</td>\n",
       "      <td>0.0038</td>\n",
       "      <td>-0.0035</td>\n",
       "      <td>-0.0802</td>\n",
       "      <td>0.0692</td>\n",
       "    </tr>\n",
       "    <tr>\n",
       "      <th>2024-07-26</th>\n",
       "      <td>NaN</td>\n",
       "      <td>0.0075</td>\n",
       "      <td>0.0021</td>\n",
       "      <td>-0.0032</td>\n",
       "      <td>-0.0500</td>\n",
       "      <td>0.0186</td>\n",
       "      <td>0.0167</td>\n",
       "      <td>-0.0252</td>\n",
       "      <td>0.0095</td>\n",
       "      <td>0.0249</td>\n",
       "      <td>...</td>\n",
       "      <td>-0.0226</td>\n",
       "      <td>0.0097</td>\n",
       "      <td>-0.0271</td>\n",
       "      <td>0.0361</td>\n",
       "      <td>-0.0169</td>\n",
       "      <td>-0.0150</td>\n",
       "      <td>0.0428</td>\n",
       "      <td>-0.0338</td>\n",
       "      <td>-0.0095</td>\n",
       "      <td>-0.0075</td>\n",
       "    </tr>\n",
       "    <tr>\n",
       "      <th>2024-07-29</th>\n",
       "      <td>NaN</td>\n",
       "      <td>0.0346</td>\n",
       "      <td>0.0063</td>\n",
       "      <td>0.0138</td>\n",
       "      <td>0.0153</td>\n",
       "      <td>0.0018</td>\n",
       "      <td>0.0401</td>\n",
       "      <td>0.0143</td>\n",
       "      <td>0.0198</td>\n",
       "      <td>0.0076</td>\n",
       "      <td>...</td>\n",
       "      <td>0.0138</td>\n",
       "      <td>0.0058</td>\n",
       "      <td>-0.0328</td>\n",
       "      <td>0.0144</td>\n",
       "      <td>0.0219</td>\n",
       "      <td>0.0226</td>\n",
       "      <td>0.0245</td>\n",
       "      <td>0.0024</td>\n",
       "      <td>-0.0083</td>\n",
       "      <td>-0.0273</td>\n",
       "    </tr>\n",
       "  </tbody>\n",
       "</table>\n",
       "<p>1129 rows × 190 columns</p>\n",
       "</div>"
      ],
      "text/plain": [
       "Symbol      A000060  A000080  A000100  A000120  A000150  A000210  A000250  \\\n",
       "Date                                                                        \n",
       "2020-01-02  -0.0392  -0.0034  -0.0211  -0.0161  -0.0199  -0.0298   0.0211   \n",
       "2020-01-03   0.0000  -0.0121  -0.0043  -0.0295  -0.0087   0.0000  -0.0316   \n",
       "2020-01-06  -0.0292   0.0035  -0.0174  -0.0068  -0.0249  -0.0421  -0.0327   \n",
       "2020-01-07  -0.0150  -0.0070   0.0177   0.0000  -0.0045   0.0131  -0.0059   \n",
       "2020-01-08  -0.0152  -0.0264  -0.0195  -0.0238  -0.0226  -0.0305  -0.0428   \n",
       "...             ...      ...      ...      ...      ...      ...      ...   \n",
       "2024-07-23      NaN   0.0074   0.0031   0.0208   0.0463  -0.0110   0.0081   \n",
       "2024-07-24      NaN   0.0000   0.0103   0.0311  -0.0418   0.0130  -0.0096   \n",
       "2024-07-25      NaN  -0.0123  -0.0235  -0.0156  -0.1179  -0.0092  -0.0605   \n",
       "2024-07-26      NaN   0.0075   0.0021  -0.0032  -0.0500   0.0186   0.0167   \n",
       "2024-07-29      NaN   0.0346   0.0063   0.0138   0.0153   0.0018   0.0401   \n",
       "\n",
       "Symbol      A000270  A000660  A000720  ...  A373220  A377300  A383220  \\\n",
       "Date                                   ...                              \n",
       "2020-01-02  -0.0406   0.0064  -0.0260  ...      NaN      NaN      NaN   \n",
       "2020-01-03  -0.0118  -0.0021  -0.0049  ...      NaN      NaN      NaN   \n",
       "2020-01-06  -0.0024  -0.0021  -0.0366  ...      NaN      NaN      NaN   \n",
       "2020-01-07   0.0036  -0.0032   0.0051  ...      NaN      NaN      NaN   \n",
       "2020-01-08  -0.0178   0.0362  -0.0516  ...      NaN      NaN      NaN   \n",
       "...             ...      ...      ...  ...      ...      ...      ...   \n",
       "2024-07-23   0.0397   0.0000  -0.0212  ...  -0.0076  -0.0781  -0.0324   \n",
       "2024-07-24  -0.0174   0.0171  -0.0077  ...  -0.0138   0.0040   0.0128   \n",
       "2024-07-25  -0.0287  -0.0887   0.0031  ...   0.0342   0.0341  -0.0126   \n",
       "2024-07-26  -0.0252   0.0095   0.0249  ...  -0.0226   0.0097  -0.0271   \n",
       "2024-07-29   0.0143   0.0198   0.0076  ...   0.0138   0.0058  -0.0328   \n",
       "\n",
       "Symbol      A402340  A403870  A417200  A443060  A450080  A454910  A462870  \n",
       "Date                                                                       \n",
       "2020-01-02      NaN      NaN      NaN      NaN      NaN      NaN      NaN  \n",
       "2020-01-03      NaN      NaN      NaN      NaN      NaN      NaN      NaN  \n",
       "2020-01-06      NaN      NaN      NaN      NaN      NaN      NaN      NaN  \n",
       "2020-01-07      NaN      NaN      NaN      NaN      NaN      NaN      NaN  \n",
       "2020-01-08      NaN      NaN      NaN      NaN      NaN      NaN      NaN  \n",
       "...             ...      ...      ...      ...      ...      ...      ...  \n",
       "2024-07-23  -0.0117  -0.0187  -0.0240   0.0789  -0.0078   0.0477  -0.0277  \n",
       "2024-07-24  -0.0106  -0.0381  -0.0172   0.0000  -0.0358  -0.0443  -0.0676  \n",
       "2024-07-25  -0.0406  -0.0076  -0.0350   0.0038  -0.0035  -0.0802   0.0692  \n",
       "2024-07-26   0.0361  -0.0169  -0.0150   0.0428  -0.0338  -0.0095  -0.0075  \n",
       "2024-07-29   0.0144   0.0219   0.0226   0.0245   0.0024  -0.0083  -0.0273  \n",
       "\n",
       "[1129 rows x 190 columns]"
      ]
     },
     "execution_count": 30,
     "metadata": {},
     "output_type": "execute_result"
    }
   ],
   "source": [
    "returns_df_top100"
   ]
  },
  {
   "cell_type": "markdown",
   "metadata": {},
   "source": [
    "종가 데이터 추가 (서비스 화면 위해)"
   ]
  },
  {
   "cell_type": "code",
   "execution_count": 32,
   "metadata": {},
   "outputs": [],
   "source": [
    "close_df = df[df['ItemEng'] == 'close'].pivot_table(index='Date', columns='Symbol', values='Value', aggfunc='first')"
   ]
  },
  {
   "cell_type": "code",
   "execution_count": 33,
   "metadata": {},
   "outputs": [],
   "source": [
    "close_df_top100 = close_df.loc[:, universe_df_top100_list].copy()"
   ]
  },
  {
   "cell_type": "code",
   "execution_count": 35,
   "metadata": {},
   "outputs": [
    {
     "data": {
      "text/plain": [
       "<Axes: xlabel='Date'>"
      ]
     },
     "execution_count": 35,
     "metadata": {},
     "output_type": "execute_result"
    },
    {
     "data": {
      "image/png": "[encoded data removed]",
      "text/plain": [
       "<Figure size 640x480 with 1 Axes>"
      ]
     },
     "metadata": {},
     "output_type": "display_data"
    }
   ],
   "source": [
    "close_df_top100['A005930'].plot()"
   ]
  },
  {
   "cell_type": "code",
   "execution_count": 36,
   "metadata": {},
   "outputs": [],
   "source": [
    "close_df_top100.to_pickle(DATA_PATH / 'close_df_top100.pkl')"
   ]
  },
  {
   "cell_type": "code",
   "execution_count": null,
   "metadata": {},
   "outputs": [],
   "source": []
  }
 ],
 "metadata": {
  "kernelspec": {
   "display_name": ".venv",
   "language": "python",
   "name": "python3"
  },
  "language_info": {
   "codemirror_mode": {
    "name": "ipython",
    "version": 3
   },
   "file_extension": ".py",
   "mimetype": "text/x-python",
   "name": "python",
   "nbconvert_exporter": "python",
   "pygments_lexer": "ipython3",
   "version": "3.11.5"
  }
 },
 "nbformat": 4,
 "nbformat_minor": 2
}
