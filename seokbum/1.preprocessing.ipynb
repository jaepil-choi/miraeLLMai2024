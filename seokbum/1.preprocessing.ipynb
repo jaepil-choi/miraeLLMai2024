{
 "cells": [
  {
   "cell_type": "markdown",
   "metadata": {},
   "source": [
    "### **1-1. preprocessing에 필요한 library import.**"
   ]
  },
  {
   "cell_type": "code",
   "execution_count": 1,
   "metadata": {},
   "outputs": [],
   "source": [
    "import re\n",
    "import requests\n",
    "from bs4 import BeautifulSoup\n",
    "import json"
   ]
  },
  {
   "cell_type": "markdown",
   "metadata": {},
   "source": [
    "### **1-2. 수집한 기업 관련 Naver 뉴스 URL들을 news_info에 저장.**\n",
    "\n",
    "- data/news_url_example.txt에 저장된 각 url을 html 파일로 변환하여 news에 저장.\n",
    "    \n",
    "- BeautifulSoup를 활용하여 html 파일에서 뉴스의 제목, 작성 날짜, 기사 본문만을 추출.\n",
    "\n",
    "- 기사 본문의 경우, 불필요한 문자, 테그, 사진 설명등을 제거하는 전처리 진행.\n",
    "\n",
    "- 추출한 정보를 data/news_info_example.json으로 저장."
   ]
  },
  {
   "cell_type": "code",
   "execution_count": 2,
   "metadata": {},
   "outputs": [],
   "source": [
    "urls = set()\n",
    "\n",
    "with open(\"data/news_url_example.txt\", \"r\") as file:\n",
    "    for line in file.readlines():\n",
    "        url = line.rstrip()\n",
    "        urls.add(url)\n",
    "\n",
    "urls = list(urls)\n",
    "            \n",
    "headers = {\"User-Agent\": \"Mozilla/5.0 (Windows NT 10.0; Win64; x64) Chrome/98.0.4758.102\"}\n",
    "news_info = {}\n",
    "index = 0\n",
    "\n",
    "for url in urls:\n",
    "    news_info[index] = {}\n",
    "    \n",
    "    news = requests.get(url, headers=headers)\n",
    "    news_html = BeautifulSoup(news.text, \"html.parser\")\n",
    "    \n",
    "    # 1. Naver 뉴스 기사 제목\n",
    "    title = news_html.select_one(\"#ct > div.media_end_head.go_trans > div.media_end_head_title > h2\")\n",
    "    if title == None:\n",
    "        title = news_html.select_one(\"#content > div.end_ct > div > h2\")\n",
    "    title = re.sub(pattern='<[^>]*>', repl='', string=str(title))\n",
    "    \n",
    "    news_info[index]['title'] = title\n",
    "    \n",
    "    # 2. Naver 뉴스 기사 작성 날짜\n",
    "    try:\n",
    "        html_date = news_html.select_one(\"div#ct> div.media_end_head.go_trans > div.media_end_head_info.nv_notrans > div.media_end_head_info_datestamp > div > span\")\n",
    "        news_date = html_date.attrs['data-date-time']\n",
    "    except AttributeError:\n",
    "        news_date = news_html.select_one(\"#content > div.end_ct > div > div.article_info > span > em\")\n",
    "        news_date = re.sub(pattern='<[^>]*>', repl='', string=str(news_date))\n",
    "    \n",
    "    news_info[index]['date'] = news_date[:-8]\n",
    "    \n",
    "    # 3. Naver 뉴스 기사 본문\n",
    "    document = news_html.select(\"article#dic_area\")\n",
    "    if document == []:\n",
    "        document = news_html.select(\"#articeBody\") \n",
    "    document = ''.join(str(document))\n",
    "\n",
    "    while True:\n",
    "        start = document.find(\"<em\")\n",
    "        if start == -1:\n",
    "            break\n",
    "        i = 3\n",
    "        while document[start+i] != '>':\n",
    "            i += 1\n",
    "        document = document.replace(document[start:start+i+1], \"<\")\n",
    "    document = document.replace(\"</em>\", \">\")\n",
    "    document = re.sub(pattern='<[^>]*>', repl='\\n', string=document)\n",
    "    document = document[1:-1].lstrip().rstrip()\n",
    "    document_by_line = []\n",
    "    for line in document.split('\\n'):\n",
    "        if line != \"\":\n",
    "            document_by_line.append(line)\n",
    "    document = '\\n'.join(document_by_line)\n",
    "            \n",
    "    news_info[index]['document'] = document\n",
    "    \n",
    "    # 4. Naver 뉴스 기사 url\n",
    "    news_info[index]['source'] = url\n",
    "    index += 1\n",
    "\n",
    "with open(\"data/news_info_example.json\", \"w\") as f:\n",
    "    json.dump(news_info, f)"
   ]
  },
  {
   "cell_type": "code",
   "execution_count": null,
   "metadata": {},
   "outputs": [],
   "source": []
  }
 ],
 "metadata": {
  "kernelspec": {
   "display_name": "Python 3 (ipykernel)",
   "language": "python",
   "name": "python3"
  },
  "language_info": {
   "codemirror_mode": {
    "name": "ipython",
    "version": 3
   },
   "file_extension": ".py",
   "mimetype": "text/x-python",
   "name": "python",
   "nbconvert_exporter": "python",
   "pygments_lexer": "ipython3",
   "version": "3.9.7"
  }
 },
 "nbformat": 4,
 "nbformat_minor": 2
}
