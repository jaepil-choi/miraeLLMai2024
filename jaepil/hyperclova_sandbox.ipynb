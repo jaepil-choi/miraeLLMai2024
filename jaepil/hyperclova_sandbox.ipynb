{
 "cells": [
  {
   "cell_type": "markdown",
   "metadata": {},
   "source": [
    "# Hyper CLOVA 로 테스트해보기 "
   ]
  },
  {
   "cell_type": "code",
   "execution_count": 1,
   "metadata": {},
   "outputs": [],
   "source": [
    "from pathlib import Path\n",
    "\n",
    "import pandas as pd\n",
    "import numpy as np\n",
    "\n",
    "import pickle"
   ]
  },
  {
   "cell_type": "code",
   "execution_count": 2,
   "metadata": {},
   "outputs": [],
   "source": [
    "import requests\n",
    "from bs4 import BeautifulSoup as bs\n"
   ]
  },
  {
   "cell_type": "code",
   "execution_count": 3,
   "metadata": {},
   "outputs": [],
   "source": [
    "from tqdm import tqdm"
   ]
  },
  {
   "cell_type": "code",
   "execution_count": 4,
   "metadata": {},
   "outputs": [],
   "source": [
    "CWD = Path.cwd()\n",
    "WORKSPACE_PATH = CWD.parent\n",
    "COMMON_PATH = WORKSPACE_PATH / 'common'\n",
    "DATA_PATH = WORKSPACE_PATH / 'data'"
   ]
  },
  {
   "cell_type": "code",
   "execution_count": 22,
   "metadata": {},
   "outputs": [],
   "source": [
    "import sys\n",
    "\n",
    "SEOKBUM_PATH = WORKSPACE_PATH / 'seokbum'\n",
    "\n",
    "sys.path.append(SEOKBUM_PATH.as_posix())"
   ]
  },
  {
   "cell_type": "code",
   "execution_count": 23,
   "metadata": {},
   "outputs": [],
   "source": [
    "from completion_executor import ChatCompletionExecutor\n",
    "from sliding_window_executor import SlidingWindowExecutor\n",
    "import json"
   ]
  },
  {
   "cell_type": "markdown",
   "metadata": {},
   "source": [
    "## 데이터 불러오기\n",
    "\n",
    "- returns\n",
    "- news articles (full)"
   ]
  },
  {
   "cell_type": "code",
   "execution_count": 5,
   "metadata": {},
   "outputs": [],
   "source": [
    "returns_df = pd.read_pickle(DATA_PATH / 'returns_df_top100.pkl')"
   ]
  },
  {
   "cell_type": "code",
   "execution_count": 6,
   "metadata": {},
   "outputs": [
    {
     "data": {
      "text/plain": [
       "('2020.01.02', '2024.07.12')"
      ]
     },
     "execution_count": 6,
     "metadata": {},
     "output_type": "execute_result"
    }
   ],
   "source": [
    "START_DATE = returns_df.index[0].strftime('%Y.%m.%d')\n",
    "END_DATE = returns_df.index[-1].strftime('%Y.%m.%d')\n",
    "\n",
    "START_DATE, END_DATE"
   ]
  },
  {
   "cell_type": "code",
   "execution_count": 7,
   "metadata": {},
   "outputs": [],
   "source": [
    "top100_tickers = returns_df.columns.to_list()"
   ]
  },
  {
   "cell_type": "code",
   "execution_count": 8,
   "metadata": {},
   "outputs": [],
   "source": [
    "news_full = pd.read_pickle(DATA_PATH / 'news_full_00.pkl')"
   ]
  },
  {
   "cell_type": "markdown",
   "metadata": {},
   "source": [
    "## Graph RAG LLM 적용"
   ]
  },
  {
   "cell_type": "code",
   "execution_count": 19,
   "metadata": {},
   "outputs": [],
   "source": [
    "def get_txt(title):\n",
    "    with open(DATA_PATH / f'{title}.txt', 'r', encoding='utf-8') as f:\n",
    "        return f.read()"
   ]
  },
  {
   "cell_type": "code",
   "execution_count": 20,
   "metadata": {},
   "outputs": [],
   "source": [
    "한미 = get_txt('한미반도체')"
   ]
  },
  {
   "cell_type": "code",
   "execution_count": 21,
   "metadata": {},
   "outputs": [],
   "source": [
    "instruction = get_txt('instruction')"
   ]
  },
  {
   "cell_type": "code",
   "execution_count": 24,
   "metadata": {},
   "outputs": [],
   "source": [
    "sliding_window_executor = SlidingWindowExecutor(\n",
    "    host='clovastudio.apigw.ntruss.com',\n",
    "    api_key='NTA0MjU2MWZlZTcxNDJiY+Uy9rYumYZsV6izDa9AFvO56MDOrkyLi3eCmugWbNRu',\n",
    "    api_key_primary_val = '1yiWJOyxczG1Ichq95JEUty5cZKr3F5iBynZfQWL',\n",
    "    request_id='3dd95651-1c46-47e5-b56a-17b24d80669f'\n",
    ")\n",
    "\n",
    "completion_executor = ChatCompletionExecutor(\n",
    "    host='https://clovastudio.stream.ntruss.com',\n",
    "    api_key='NTA0MjU2MWZlZTcxNDJiY+Uy9rYumYZsV6izDa9AFvO56MDOrkyLi3eCmugWbNRu',\n",
    "    api_key_primary_val='1yiWJOyxczG1Ichq95JEUty5cZKr3F5iBynZfQWL',\n",
    "    request_id='c157480f-7a49-4fff-bc49-65227afaaffb'\n",
    ")"
   ]
  },
  {
   "cell_type": "code",
   "execution_count": 25,
   "metadata": {},
   "outputs": [],
   "source": [
    "messages = [{\"role\": \"user\", \"content\": instruction}]\n",
    "\n",
    "message_head = \"객체 유형 목록: [\\\"기업\\\", \\\"인물\\\", \\\"국가\\\"]\\n\\n\"\n",
    "news_title = '뉴스 제목: ' + '한미반도체, 삼성전자 엔비디아 HBM 승인 보도에 한 때 7% 폭락'\n",
    "news_document = \"뉴스 기사 본문: \" + \"\\n\\n\" + 한미"
   ]
  },
  {
   "cell_type": "code",
   "execution_count": 26,
   "metadata": {},
   "outputs": [],
   "source": [
    "messages.append({\"role\": \"user\", \"content\": message_head + news_title + news_document})"
   ]
  },
  {
   "cell_type": "code",
   "execution_count": 27,
   "metadata": {},
   "outputs": [],
   "source": [
    "request_data = {\n",
    "    \"messages\": messages,\n",
    "    \"maxTokens\": 1024\n",
    "}"
   ]
  },
  {
   "cell_type": "code",
   "execution_count": 28,
   "metadata": {},
   "outputs": [],
   "source": [
    "adjusted_messages = sliding_window_executor.execute(request_data)"
   ]
  },
  {
   "cell_type": "code",
   "execution_count": 29,
   "metadata": {},
   "outputs": [],
   "source": [
    "completion_request_data = {\n",
    "    \"messages\": adjusted_messages,\n",
    "    \"maxTokens\": 1024, \n",
    "    \"temperature\": 0.5,\n",
    "    \"topK\": 0,\n",
    "    \"topP\": 0.8,\n",
    "    \"repeatPenalty\": 1.2,\n",
    "    \"stopBefore\": [],\n",
    "    \"includeAiFilters\": True,\n",
    "    \"seed\": 0\n",
    "}"
   ]
  },
  {
   "cell_type": "code",
   "execution_count": 30,
   "metadata": {},
   "outputs": [],
   "source": [
    "response = completion_executor.execute(completion_request_data)"
   ]
  },
  {
   "cell_type": "code",
   "execution_count": 31,
   "metadata": {},
   "outputs": [],
   "source": [
    "extract_result = response.get('result', {}).get('message', {}).get('content', '').strip()"
   ]
  },
  {
   "cell_type": "code",
   "execution_count": 32,
   "metadata": {},
   "outputs": [
    {
     "name": "stdout",
     "output_type": "stream",
     "text": [
      "출력:\n",
      "\n",
      "- (\"객체\", \"한미반도체\", \"기업\", \"한미반도체는 반도체 장비 대장주로, 삼성전자와 SK하이닉스에 장비를 납품한다.\")\n",
      "- (\"객체\", \"삼성전자\", \"기업\", \"삼성전자는 대한민국의 대표적인 IT 기업으로, 반도체, 스마트폰, 가전제품 등을 생산한다.\")\n",
      "- (\"객체\", \"엔비디아\", \"기업\", \"엔비디아는 미국의 그래픽 처리 장치(GPU) 제조 기업으로, 인공지능(AI) 분야에서도 높은 기술력을 보유하고 있다.\")\n",
      "- (\"객체\", \"곽동신\", \"인물\", \"곽동신은 한미반도체의 부회장으로, 한미반도체의 최대주주이다.\")\n",
      "- (\"관계\", \"한미반도체\", \"삼성전자\", \"한미반도체는 삼성전자에 HBM 제조용 TC본더를 납품하지 않고 있으며, 삼성전자가 엔비디아의 HBM 납품 퀄테스트를 통과하면서 한미반도체의 납품 가능성이 낮아졌다.\", -2)\n",
      "- (\"관계\", \"삼성전자\", \"엔비디아\", \"삼성전자는 엔비디아의 HBM 납품 퀄테스트를 통과했으며, 공식적인 HBM 공급을 위한 양산에 본격 나설 것으로 보인다.\", 5)\n",
      "- (\"관계\", \"한미반도체\", \"SK하이닉스\", \"한미반도체는 SK하이닉스의 주력 납품사로 미국 마이크론테크놀로지까지 고객사로 확보했다\", 3)\n"
     ]
    }
   ],
   "source": [
    "print(extract_result)"
   ]
  },
  {
   "cell_type": "code",
   "execution_count": null,
   "metadata": {},
   "outputs": [],
   "source": []
  }
 ],
 "metadata": {
  "kernelspec": {
   "display_name": ".venv",
   "language": "python",
   "name": "python3"
  },
  "language_info": {
   "codemirror_mode": {
    "name": "ipython",
    "version": 3
   },
   "file_extension": ".py",
   "mimetype": "text/x-python",
   "name": "python",
   "nbconvert_exporter": "python",
   "pygments_lexer": "ipython3",
   "version": "3.11.5"
  }
 },
 "nbformat": 4,
 "nbformat_minor": 2
}
